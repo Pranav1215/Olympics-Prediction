{
 "cells": [
  {
   "cell_type": "code",
   "execution_count": 5,
   "metadata": {},
   "outputs": [],
   "source": [
    "import pandas as pd\n",
    "import sklearn as skl\n",
    "from sklearn.ensemble import RandomForestClassifier\n",
    "from sklearn.metrics import mean_absolute_error, classification_report, confusion_matrix, ConfusionMatrixDisplay\n",
    "from sklearn.model_selection import train_test_split\n",
    "import numpy as np\n",
    "import matplotlib.pyplot as plt"
   ]
  },
  {
   "cell_type": "code",
   "execution_count": 6,
   "metadata": {},
   "outputs": [],
   "source": [
    "df = []\n",
    "file_paths = ['/Users/pranavvenkata/Downloads/archive/Lillehammer 1994 Olympics Nations Medals.csv',\n",
    "    '/Users/pranavvenkata/Downloads/archive/Atlanta 1996 Olympics Nations Medals.csv',\n",
    "    '/Users/pranavvenkata/Downloads/archive/Nagano 1998 Olympics Nations Medals.csv',\n",
    "    '/Users/pranavvenkata/Downloads/archive/Sydney 2000 Olympics Nations Medals.csv',\n",
    "    '/Users/pranavvenkata/Downloads/archive/SaltLakeCity 2002 Olympics Nations Medals.csv',\n",
    "    '/Users/pranavvenkata/Downloads/archive/Athens 2004 Olympics Nations Medals.csv',\n",
    "    '/Users/pranavvenkata/Downloads/archive/Torino 2006 Olympics Nations Medals.csv',\n",
    "    '/Users/pranavvenkata/Downloads/archive/Vancouver 2010 Olympics Nations Medals.csv',\n",
    "    '/Users/pranavvenkata/Downloads/archive/London 2012 Olympics Nations Medals.csv',\n",
    "    '/Users/pranavvenkata/Downloads/archive/Sochi 2014 Olympics Nations Medals.csv',\n",
    "    '/Users/pranavvenkata/Downloads/archive/Rio 2016 Olympics Nations Medals.csv',\n",
    "    '/Users/pranavvenkata/Downloads/archive/PyeongChang 2018 Olympics Nations Medals.csv',\n",
    "    '/Users/pranavvenkata/Downloads/archive/Tokyo 2020 Olympics Nations Medals.csv',\n",
    "    '/Users/pranavvenkata/Downloads/archive/Beijing 2022 Olympics Nations Medals.csv',\n",
    "    '/Users/pranavvenkata/Downloads/archive/Paris 2024 Olympics Nations Medals.csv']\n",
    "years = [1994, 1996, 1998, 2000, 2002, 2004, 2006, 2010, 2012, 2014, 2016, 2018, 2020, 2022, 2024]\n",
    "for file_path, year in zip(file_paths, years):\n",
    "    table = pd.read_csv(file_path)\n",
    "    table['Year'] = year\n",
    "    df.append(table)\n",
    "combined_df = pd.concat(df)\n",
    "combined_df = combined_df.sort_values(by=['NOC'])\n",
    "combined_df.reset_index(drop=True, inplace=True)\n",
    "df1 = []\n",
    "noc_codes = ['USA', 'CAN', 'GER', 'FRA', 'ITA', 'UKR', 'AUS', 'CHN', 'JPN', 'KOR', 'SWE', 'NOR', 'FIN', 'SUI', 'AUT', 'NED', 'POL', 'CZE', 'HUN', 'BUL', 'ROU', 'ESP', 'BEL', 'DEN', 'NZE']\n",
    "for noc in noc_codes:\n",
    "    country_row_df = combined_df[combined_df['NOC'] == noc]\n",
    "    df1.append(country_row_df)\n",
    "df2 = pd.concat(df1)"
   ]
  },
  {
   "cell_type": "code",
   "execution_count": 7,
   "metadata": {},
   "outputs": [
    {
     "name": "stdout",
     "output_type": "stream",
     "text": [
      "              precision    recall  f1-score   support\n",
      "\n",
      "        high       1.00      1.00      1.00        13\n",
      "         low       0.93      1.00      0.97        28\n",
      "      medium       1.00      0.92      0.96        26\n",
      "\n",
      "    accuracy                           0.97        67\n",
      "   macro avg       0.98      0.97      0.98        67\n",
      "weighted avg       0.97      0.97      0.97        67\n",
      "\n",
      "The country predicted to win the most medals in 2024 is: USA\n",
      "     NOC  predictions\n",
      "132  CHN           39\n",
      "25   AUS           39\n",
      "752  USA           39\n",
      "514  NED           39\n",
      "528  NOR           39\n",
      "..   ...          ...\n",
      "216  ESP            1\n",
      "70   BEL            1\n",
      "563  POL            1\n",
      "726  UKR            1\n",
      "43   AUT            1\n",
      "\n",
      "[67 rows x 2 columns]\n"
     ]
    }
   ],
   "source": [
    "predictors = [\"Year\", \"Total\"]\n",
    "target = \"Total\"\n",
    "teams = df2[[\"NOC\", \"Gold\", \"Silver\", \"Bronze\", \"Total\", \"Year\"]]\n",
    "train = teams[teams[\"Year\"] < 2020].copy()\n",
    "test = teams[teams[\"Year\"] >= 2020].copy()\n",
    "reg = RandomForestClassifier()\n",
    "reg.fit(train[predictors], train[target])\n",
    "predictions = reg.predict(test[predictors])\n",
    "test[\"predictions\"] = predictions\n",
    "test.loc[test[\"predictions\"] < 0, \"predictions\"] = 0\n",
    "test[\"predictions\"] = test[\"predictions\"].round()\n",
    "bins = [0, 10, 30, np.inf]\n",
    "labels = [\"low\", \"medium\", \"high\"]\n",
    "test['Total_class'] = pd.cut(test[target], bins=bins, labels=labels)\n",
    "test['Predictions_class'] = pd.cut(test['predictions'], bins=bins, labels=labels)\n",
    "report = skl.metrics.classification_report(test['Total_class'], test['Predictions_class'])\n",
    "print(report)\n",
    "winner = test.loc[test[\"predictions\"].idxmax(), \"NOC\"]\n",
    "print(f\"The country predicted to win the most medals in 2024 is: {winner}\")\n",
    "sorted_predictions = test.sort_values(by=\"predictions\", ascending=False)\n",
    "print(sorted_predictions[[\"NOC\", \"predictions\"]])\n",
    "# errors = (test[target] - predictions).abs()\n",
    "# error_by_team = errors.groupby(test[\"NOC\"]).mean()\n",
    "# medals_by_team = test[target].groupby(test[\"NOC\"]).mean()\n",
    "# error_ratio = error_by_team / medals_by_team \n",
    "# error_ratio = error_ratio[np.isfinite(error_ratio)]\n",
    "# error_ratio.plot.hist()\n",
    "# plt.title('Histogram of Error Ratios')\n",
    "# plt.xlabel('Error Ratio')\n",
    "# plt.ylabel('Frequency')\n",
    "# plt.show()\n",
    "# print(\"Error Ratios sorted:\")\n",
    "# print(error_ratio.sort_values())"
   ]
  },
  {
   "cell_type": "code",
   "execution_count": 8,
   "metadata": {},
   "outputs": [
    {
     "data": {
      "image/png": "[encoded data removed]",
      "text/plain": [
       "<Figure size 640x480 with 2 Axes>"
      ]
     },
     "metadata": {},
     "output_type": "display_data"
    }
   ],
   "source": [
    "cm = confusion_matrix(test['Total_class'], test['Predictions_class'])\n",
    "disp = ConfusionMatrixDisplay(confusion_matrix=cm, display_labels=labels)\n",
    "disp.plot(cmap=plt.cm.Greens)\n",
    "plt.title('Confusion Matrix')\n",
    "plt.show()"
   ]
  }
 ],
 "metadata": {
  "kernelspec": {
   "display_name": "Python 3 (ipykernel)",
   "language": "python",
   "name": "python3"
  },
  "language_info": {
   "codemirror_mode": {
    "name": "ipython",
    "version": 3
   },
   "file_extension": ".py",
   "mimetype": "text/x-python",
   "name": "python",
   "nbconvert_exporter": "python",
   "pygments_lexer": "ipython3",
   "version": "3.11.4"
  },
  "orig_nbformat": 4
 },
 "nbformat": 4,
 "nbformat_minor": 2
}
